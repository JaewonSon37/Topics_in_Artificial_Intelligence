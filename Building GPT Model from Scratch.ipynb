{
  "cells": [
    {
      "cell_type": "markdown",
      "metadata": {
        "id": "9wNJyUVCehII"
      },
      "source": [
        "# Building GPT Model from Scratch\n",
        "---"
      ]
    },
    {
      "cell_type": "code",
      "execution_count": null,
      "metadata": {
        "id": "kH9_pLUbG-Io"
      },
      "outputs": [],
      "source": [
        "# Import libraries\n",
        "import numpy as np\n",
        "import math\n",
        "import torch\n",
        "import torch.nn as nn\n",
        "import torch.nn.functional as F\n",
        "import matplotlib.pyplot as plt\n",
        "from torch import nn"
      ]
    },
    {
      "cell_type": "markdown",
      "metadata": {
        "id": "u6YKu6nHPVYT"
      },
      "source": [
        "---\n",
        "## Preparting Data"
      ]
    },
    {
      "cell_type": "markdown",
      "metadata": {
        "id": "RRxun4-5_v5o"
      },
      "source": [
        "---\n",
        "### Dataset"
      ]
    },
    {
      "cell_type": "code",
      "execution_count": null,
      "metadata": {
        "colab": {
          "base_uri": "https://localhost:8080/"
        },
        "id": "KigUDqwRE1-2",
        "outputId": "20f0aee2-5ba1-4719-87f2-f13cc773eab1"
      },
      "outputs": [
        {
          "name": "stdout",
          "output_type": "stream",
          "text": [
            "--2025-04-12 21:54:38--  https://raw.githubusercontent.com/karpathy/char-rnn/master/data/tinyshakespeare/input.txt\n",
            "Resolving raw.githubusercontent.com (raw.githubusercontent.com)... 185.199.108.133, 185.199.109.133, 185.199.110.133, ...\n",
            "Connecting to raw.githubusercontent.com (raw.githubusercontent.com)|185.199.108.133|:443... connected.\n",
            "HTTP request sent, awaiting response... 200 OK\n",
            "Length: 1115394 (1.1M) [text/plain]\n",
            "Saving to: ‘input.txt’\n",
            "\n",
            "\rinput.txt             0%[                    ]       0  --.-KB/s               \rinput.txt           100%[===================>]   1.06M  --.-KB/s    in 0.05s   \n",
            "\n",
            "2025-04-12 21:54:38 (23.4 MB/s) - ‘input.txt’ saved [1115394/1115394]\n",
            "\n"
          ]
        }
      ],
      "source": [
        "# Download the Tiny Shakespeare dataset\n",
        "!wget https://raw.githubusercontent.com/karpathy/char-rnn/master/data/tinyshakespeare/input.txt"
      ]
    },
    {
      "cell_type": "code",
      "execution_count": null,
      "metadata": {
        "id": "I_8z7iQQFceb"
      },
      "outputs": [],
      "source": [
        "# Read the dataset into a string\n",
        "with open('input.txt', 'r', encoding='utf-8') as f:\n",
        "    text = f.read()"
      ]
    },
    {
      "cell_type": "code",
      "execution_count": null,
      "metadata": {
        "colab": {
          "base_uri": "https://localhost:8080/"
        },
        "id": "yU_NxRNeF5PP",
        "outputId": "a899510c-ecad-4278-bc34-f17865a56073"
      },
      "outputs": [
        {
          "name": "stdout",
          "output_type": "stream",
          "text": [
            "First Citizen:\n",
            "Before we proceed any further, hear me speak.\n",
            "\n",
            "All:\n",
            "Speak, speak.\n",
            "\n",
            "First Citizen:\n",
            "You are all resolved rather to die than to famish?\n",
            "\n",
            "All:\n",
            "Resolved. resolved.\n",
            "\n",
            "First Citizen:\n",
            "First, you know Caius Marcius is chief enemy to the people.\n",
            "\n",
            "All:\n",
            "We know't, we know't.\n",
            "\n",
            "First Citizen:\n",
            "Let us kill him, and we'll have corn at our own price.\n",
            "Is't a verdict?\n",
            "\n",
            "All:\n",
            "No more talking on't; let it be done: away, away!\n",
            "\n",
            "Second Citizen:\n",
            "One word, good citizens.\n",
            "\n",
            "First Citizen:\n",
            "We are accounted poor citizens, the patricians good.\n",
            "What authority surfeits on would relieve us: if they\n",
            "would yield us but the superfluity, while it were\n",
            "wholesome, we might guess they relieved us humanely;\n",
            "but they think we are too dear: the leanness that\n",
            "afflicts us, the object of our misery, is as an\n",
            "inventory to particularise their abundance; our\n",
            "sufferance is a gain to them Let us revenge this with\n",
            "our pikes, ere we become rakes: for the gods know I\n",
            "speak this in hunger for bread, not in thirst for revenge.\n",
            "\n",
            "\n"
          ]
        }
      ],
      "source": [
        "print(text[:1000])"
      ]
    },
    {
      "cell_type": "code",
      "execution_count": null,
      "metadata": {
        "colab": {
          "base_uri": "https://localhost:8080/"
        },
        "id": "kZP0IvWXFohF",
        "outputId": "6e7a43a9-dbb2-414b-951a-36586f30b931"
      },
      "outputs": [
        {
          "data": {
            "text/plain": [
              "1115394"
            ]
          },
          "execution_count": 5,
          "metadata": {},
          "output_type": "execute_result"
        }
      ],
      "source": [
        "len(text)"
      ]
    },
    {
      "cell_type": "markdown",
      "metadata": {
        "id": "1NnYo-4tExj3"
      },
      "source": [
        "### Encoding Text"
      ]
    },
    {
      "cell_type": "code",
      "execution_count": null,
      "metadata": {
        "id": "WwH5w8TQ_v5p"
      },
      "outputs": [],
      "source": [
        "# Extract unique characters and define vocabulary\n",
        "chars = sorted(list(set(text)))\n",
        "vocab_size = len(chars)"
      ]
    },
    {
      "cell_type": "code",
      "execution_count": null,
      "metadata": {
        "colab": {
          "base_uri": "https://localhost:8080/"
        },
        "id": "7uTjLKQBGk0T",
        "outputId": "66d9e554-4a31-44d6-8e54-fe8360d76593"
      },
      "outputs": [
        {
          "name": "stdout",
          "output_type": "stream",
          "text": [
            "vocab:  ['\\n', ' ', '!', '$', '&', \"'\", ',', '-', '.', '3', ':', ';', '?', 'A', 'B', 'C', 'D', 'E', 'F', 'G', 'H', 'I', 'J', 'K', 'L', 'M', 'N', 'O', 'P', 'Q', 'R', 'S', 'T', 'U', 'V', 'W', 'X', 'Y', 'Z', 'a', 'b', 'c', 'd', 'e', 'f', 'g', 'h', 'i', 'j', 'k', 'l', 'm', 'n', 'o', 'p', 'q', 'r', 's', 't', 'u', 'v', 'w', 'x', 'y', 'z']\n",
            "vocab_size: 65\n"
          ]
        }
      ],
      "source": [
        "print(\"vocab: \", chars)\n",
        "print(\"vocab_size:\", vocab_size)"
      ]
    },
    {
      "cell_type": "code",
      "execution_count": null,
      "metadata": {
        "id": "H82QoLyYLKgV"
      },
      "outputs": [],
      "source": [
        "# Create mappings\n",
        "s2i = {ch:i for i,ch in enumerate(chars)}\n",
        "i2s = {i:ch for i,ch in enumerate(chars)}"
      ]
    },
    {
      "cell_type": "code",
      "execution_count": null,
      "metadata": {
        "id": "HXvXmvMoHBpl"
      },
      "outputs": [],
      "source": [
        "# Encoding and decoding utility functions\n",
        "encode = lambda s: [s2i[c] for c in s]\n",
        "decode = lambda l: ''.join([i2s[i] for i in l])"
      ]
    },
    {
      "cell_type": "code",
      "execution_count": null,
      "metadata": {
        "colab": {
          "base_uri": "https://localhost:8080/"
        },
        "id": "A5pxCSCf_v5p",
        "outputId": "0bdd2248-1868-4efe-8dc9-32ab6c8f3a51"
      },
      "outputs": [
        {
          "name": "stdout",
          "output_type": "stream",
          "text": [
            "[20, 43, 50, 50, 53, 1, 35, 53, 56, 50, 42, 2]\n",
            "Hello World!\n"
          ]
        }
      ],
      "source": [
        "print(encode(\"Hello World!\"))\n",
        "print(decode(encode(\"Hello World!\")))"
      ]
    },
    {
      "cell_type": "code",
      "execution_count": null,
      "metadata": {
        "id": "SpfPAlqE_v5p"
      },
      "outputs": [],
      "source": [
        "encoded_text = encode(text)"
      ]
    },
    {
      "cell_type": "code",
      "execution_count": null,
      "metadata": {
        "colab": {
          "base_uri": "https://localhost:8080/"
        },
        "id": "32XyEeA0Y55-",
        "outputId": "9d676165-c1b7-4c0f-f879-7b7144896c32"
      },
      "outputs": [
        {
          "name": "stdout",
          "output_type": "stream",
          "text": [
            "[18, 47, 56, 57, 58, 1, 15, 47, 58, 47, 64, 43, 52, 10, 0, 14, 43, 44, 53, 56, 43, 1, 61, 43, 1, 54, 56, 53, 41, 43, 43, 42, 1, 39, 52, 63, 1, 44, 59, 56, 58, 46, 43, 56, 6, 1, 46, 43, 39, 56]\n"
          ]
        }
      ],
      "source": [
        "print(encoded_text[:50])"
      ]
    },
    {
      "cell_type": "markdown",
      "metadata": {
        "id": "bVuDhvLyE1Md"
      },
      "source": [
        "---\n",
        "### Prepare Dataset and Data Loader"
      ]
    },
    {
      "cell_type": "code",
      "execution_count": null,
      "metadata": {
        "id": "RnxKwpzJLMls"
      },
      "outputs": [],
      "source": [
        "# Define sequence length for context window\n",
        "context_len = 100"
      ]
    },
    {
      "cell_type": "code",
      "execution_count": null,
      "metadata": {
        "id": "hlvtxMh2Y58W"
      },
      "outputs": [],
      "source": [
        "# Create input-output pairs for next-token prediction\n",
        "source_sequences = [encoded_text[i:i+context_len] for i in range(len(encoded_text) - context_len)]\n",
        "target_sequences = [encoded_text[i+1:i+1+context_len] for i in range(len(encoded_text) - context_len)]"
      ]
    },
    {
      "cell_type": "code",
      "execution_count": null,
      "metadata": {},
      "outputs": [],
      "source": [
        "# Debug print of first few input-target samples\n",
        "src, tgt = source_sequences[0], target_sequences[0]"
      ]
    },
    {
      "cell_type": "code",
      "execution_count": null,
      "metadata": {
        "colab": {
          "base_uri": "https://localhost:8080/"
        },
        "id": "YR65PD-v7FqM",
        "outputId": "493aa1d7-2466-4d5d-83fa-3565d678f6cb"
      },
      "outputs": [
        {
          "name": "stdout",
          "output_type": "stream",
          "text": [
            "when input is [18] or 'F' the target: 47 or i\n",
            "when input is [18, 47] or 'Fi' the target: 56 or r\n",
            "when input is [18, 47, 56] or 'Fir' the target: 57 or s\n",
            "when input is [18, 47, 56, 57] or 'Firs' the target: 58 or t\n",
            "when input is [18, 47, 56, 57, 58] or 'First' the target: 1 or  \n",
            "when input is [18, 47, 56, 57, 58, 1] or 'First ' the target: 15 or C\n",
            "when input is [18, 47, 56, 57, 58, 1, 15] or 'First C' the target: 47 or i\n",
            "when input is [18, 47, 56, 57, 58, 1, 15, 47] or 'First Ci' the target: 58 or t\n",
            "when input is [18, 47, 56, 57, 58, 1, 15, 47, 58] or 'First Cit' the target: 47 or i\n",
            "when input is [18, 47, 56, 57, 58, 1, 15, 47, 58, 47] or 'First Citi' the target: 64 or z\n"
          ]
        }
      ],
      "source": [
        "for t in range(10):\n",
        "    context = src[:t+1]\n",
        "    target = tgt[t]\n",
        "    print(f\"when input is {context} or '{decode(context)}' the target: {target} or {decode([target])}\")"
      ]
    },
    {
      "cell_type": "code",
      "execution_count": null,
      "metadata": {
        "id": "3RSBo_HoneZm"
      },
      "outputs": [],
      "source": [
        "# Convert to PyTorch tensors\n",
        "source_tensor = torch.tensor(source_sequences)\n",
        "target_tensor = torch.tensor(target_sequences)"
      ]
    },
    {
      "cell_type": "markdown",
      "metadata": {
        "id": "KOjVBSU7HLfe"
      },
      "source": [
        "**Exercise 1 [1/1]**:\n",
        "1. Implement the class `TextDataset`."
      ]
    },
    {
      "cell_type": "code",
      "execution_count": null,
      "metadata": {
        "id": "UhixG7wTnlEy"
      },
      "outputs": [],
      "source": [
        "# Dataset class for batching input-output sequences\n",
        "class TextDataset(torch.utils.data.Dataset):\n",
        "\n",
        "    def __init__(self, src_seqs, tgt_seqs):\n",
        "        self.src_seqs = src_seqs\n",
        "        self.tgt_seqs = tgt_seqs\n",
        "\n",
        "    def __len__(self):\n",
        "        return len(self.src_seqs)\n",
        "\n",
        "    def __getitem__(self, idx):\n",
        "        return self.src_seqs[idx], self.tgt_seqs[idx]"
      ]
    },
    {
      "cell_type": "code",
      "execution_count": null,
      "metadata": {
        "id": "OObhOF_DLU8m"
      },
      "outputs": [],
      "source": [
        "# Create dataset and split into training and validation sets\n",
        "dataset = TextDataset(source_tensor, target_tensor)\n",
        "n = int(0.9 * len(dataset))\n",
        "train_dataset, val_dataset = torch.utils.data.random_split(dataset, [n, len(dataset) - n])"
      ]
    },
    {
      "cell_type": "code",
      "execution_count": null,
      "metadata": {
        "id": "CeL8YgYQnuRs"
      },
      "outputs": [],
      "source": [
        "# Create DataLoaders for batching\n",
        "batch_size = 64\n",
        "train_dataloader = torch.utils.data.DataLoader(train_dataset, batch_size = batch_size, shuffle = True)\n",
        "val_dataloader = torch.utils.data.DataLoader(val_dataset, batch_size = batch_size, shuffle = False)"
      ]
    },
    {
      "cell_type": "code",
      "execution_count": null,
      "metadata": {
        "id": "SoqIu5Bj_v5q"
      },
      "outputs": [],
      "source": [
        "# Preview one batch\n",
        "batch = next(iter(train_dataloader))\n",
        "src, tgt = batch"
      ]
    },
    {
      "cell_type": "code",
      "execution_count": null,
      "metadata": {
        "colab": {
          "base_uri": "https://localhost:8080/"
        },
        "id": "Dx6KId9Nn2qu",
        "outputId": "d5b29230-dc9f-4f1b-c7fe-9d5ba68ba527"
      },
      "outputs": [
        {
          "name": "stdout",
          "output_type": "stream",
          "text": [
            "torch.Size([64, 100])\n",
            "torch.Size([64, 100])\n",
            "tensor([[49, 52, 53,  ..., 53, 59, 57],\n",
            "        [43, 43,  1,  ..., 41, 43,  7],\n",
            "        [46, 43,  1,  ...,  1, 51, 63],\n",
            "        ...,\n",
            "        [56,  7, 42,  ...,  8,  0,  0],\n",
            "        [59, 52, 45,  ...,  1, 40, 47],\n",
            "        [52,  1, 47,  ..., 43,  1, 58]])\n",
            "tensor([[52, 53, 61,  ..., 59, 57,  0],\n",
            "        [43,  1, 51,  ..., 43,  7, 40],\n",
            "        [43,  1, 54,  ..., 51, 63,  1],\n",
            "        ...,\n",
            "        [ 7, 42, 43,  ...,  0,  0, 16],\n",
            "        [52, 45,  1,  ..., 40, 47, 52],\n",
            "        [ 1, 47, 58,  ...,  1, 58, 46]])\n"
          ]
        }
      ],
      "source": [
        "print(src.shape)\n",
        "print(tgt.shape)\n",
        "print(src)\n",
        "print(tgt)"
      ]
    },
    {
      "cell_type": "markdown",
      "metadata": {
        "id": "88aofmvwojsh"
      },
      "source": [
        "---\n",
        "## Define the GPT Model"
      ]
    },
    {
      "cell_type": "markdown",
      "metadata": {
        "id": "iwmBtvU-I3eh"
      },
      "source": [
        "---\n",
        "### Word Embeddings"
      ]
    },
    {
      "cell_type": "code",
      "execution_count": null,
      "metadata": {
        "id": "SQI-5JFBLkD_"
      },
      "outputs": [],
      "source": [
        "# Define embedding dimension\n",
        "d_model = 128"
      ]
    },
    {
      "cell_type": "code",
      "execution_count": null,
      "metadata": {
        "id": "H0PhzPc0_v5q"
      },
      "outputs": [],
      "source": [
        "# Create token embedding layer\n",
        "word_embdedding = nn.Embedding(vocab_size, d_model)"
      ]
    },
    {
      "cell_type": "code",
      "execution_count": null,
      "metadata": {
        "id": "7MyCSnDPLpiv"
      },
      "outputs": [],
      "source": [
        "# Apply word embedding to the source input\n",
        "src_word_embdedding = word_embdedding(src)"
      ]
    },
    {
      "cell_type": "code",
      "execution_count": null,
      "metadata": {
        "colab": {
          "base_uri": "https://localhost:8080/"
        },
        "id": "N9y-b5jIfK-f",
        "outputId": "96df9be3-82c7-4bf3-8d93-ff73eedb3495"
      },
      "outputs": [
        {
          "name": "stdout",
          "output_type": "stream",
          "text": [
            "torch.Size([64, 100, 128])\n",
            "tensor([[ 1.5559,  0.6352, -0.8649, -0.9931,  0.9817,  0.0037,  0.2192,  0.0296,\n",
            "          0.6097, -0.6155],\n",
            "        [ 0.3858,  0.4163, -0.0761,  0.7375,  2.2078,  1.1158,  1.0210, -0.8601,\n",
            "         -0.4254, -0.0618],\n",
            "        [-1.9824,  1.2528,  0.0600, -1.4221,  0.3807,  0.5240, -1.7595,  0.2200,\n",
            "          1.5151,  0.8016],\n",
            "        [-0.1156, -0.1460,  0.6837, -0.9593, -2.2100, -0.3878,  0.0560,  0.1228,\n",
            "          2.3290, -2.0725],\n",
            "        [-0.5075,  0.1246,  0.1035,  1.3505,  0.4287,  2.7656, -1.0643, -0.0874,\n",
            "         -0.9919,  0.5640]], grad_fn=<SliceBackward0>)\n"
          ]
        }
      ],
      "source": [
        "print(src_word_embdedding.shape)\n",
        "print(src_word_embdedding[0,:5,:10])"
      ]
    },
    {
      "cell_type": "markdown",
      "metadata": {
        "id": "vFpY1zc8_v5q"
      },
      "source": [
        "---\n",
        "### Positional Encoding"
      ]
    },
    {
      "cell_type": "markdown",
      "metadata": {
        "id": "7rNGd1FLo1xW"
      },
      "source": [
        "**Exercise 2 [1/1]**:\n",
        "1. Implement the `forward()` method in the `PositionalEncoding` class. The `forward` method takes an embedded sequence `x` with shape `(batch_size, context_len, d_model)`, adds the corresponding positional encoding from `pe`, and returns the result."
      ]
    },
    {
      "cell_type": "code",
      "execution_count": null,
      "metadata": {
        "id": "im7sFSlQonRM"
      },
      "outputs": [],
      "source": [
        "# Adds fixed sinusoidal positional encodings to token embeddings to inject sequence order\n",
        "class PositionalEncoding(nn.Module):\n",
        "\n",
        "    def __init__(self, d_model, num_range = 5000):\n",
        "\n",
        "        super(PositionalEncoding, self).__init__()\n",
        "        self.d_model = d_model\n",
        "        self.num_range = num_range\n",
        "\n",
        "        # Create empty encoding matrix\n",
        "        pe = torch.zeros(num_range, d_model)\n",
        "\n",
        "        # Position indices\n",
        "        position = torch.arange(0, num_range).unsqueeze(1)\n",
        "\n",
        "        # Pre-computed div term for sin/cos calculation\n",
        "        div_term = torch.exp(torch.arange(0, d_model, 2) * -(math.log(10000.0) / d_model))\n",
        "\n",
        "        # Apply sine to even indices, cosine to odd indices\n",
        "        pe[:, 0::2] = torch.sin(position * div_term)\n",
        "        pe[:, 1::2] = torch.cos(position * div_term)\n",
        "\n",
        "        # Add batch dimension\n",
        "        pe = pe.unsqueeze(0)\n",
        "\n",
        "        # Register as buffer\n",
        "        self.register_buffer('pe', pe)\n",
        "\n",
        "    def forward(self, x):\n",
        "\n",
        "        # Add position encoding to input embeddings\n",
        "        x = x + self.pe[:, :x.size(1), :]\n",
        "\n",
        "        return x"
      ]
    },
    {
      "cell_type": "code",
      "execution_count": null,
      "metadata": {
        "id": "6am9-WLcMCla"
      },
      "outputs": [],
      "source": [
        "# Initialize positional encoding module\n",
        "pos_encoding = PositionalEncoding(d_model = d_model, num_range = context_len)"
      ]
    },
    {
      "cell_type": "code",
      "execution_count": null,
      "metadata": {
        "id": "8JRwrHpD_v5q"
      },
      "outputs": [],
      "source": [
        "# Apply positional encoding to embedded input\n",
        "src_embedded = pos_encoding(src_word_embdedding)"
      ]
    },
    {
      "cell_type": "code",
      "execution_count": null,
      "metadata": {
        "colab": {
          "base_uri": "https://localhost:8080/"
        },
        "id": "8c4sB2z4eT07",
        "outputId": "dcbcdb83-9c69-493a-dda0-d9f9d857f6c7"
      },
      "outputs": [
        {
          "name": "stdout",
          "output_type": "stream",
          "text": [
            "torch.Size([1, 100, 128])\n",
            "torch.Size([64, 100, 128])\n",
            "tensor([[ 1.5559,  1.6352, -0.8649,  0.0069,  0.9817,  1.0037,  0.2192,  1.0296,\n",
            "          0.6097,  0.3845],\n",
            "        [ 1.2273,  0.9566,  0.6856,  1.3854,  2.8893,  1.8476,  1.6257, -0.0636,\n",
            "          0.1078,  0.7842],\n",
            "        [-1.0731,  0.8366,  1.0470, -1.5825,  1.3781,  0.5949, -0.7963,  0.4886,\n",
            "          2.4173,  1.2331],\n",
            "        [ 0.0255, -1.1360,  1.2010, -1.8151, -1.4317, -1.0158,  0.9856, -0.2456,\n",
            "          3.3223, -2.1884],\n",
            "        [-1.2643, -0.5291, -0.2132,  0.4020,  0.5703,  1.7756, -0.5467, -0.9430,\n",
            "         -0.2135, -0.0637]], grad_fn=<SliceBackward0>)\n"
          ]
        }
      ],
      "source": [
        "print(pos_encoding.pe.shape)\n",
        "print(src_embedded.shape)\n",
        "print(src_embedded[0,:5,:10])"
      ]
    },
    {
      "cell_type": "code",
      "execution_count": null,
      "metadata": {
        "id": "3noFv-w1MG6y"
      },
      "outputs": [],
      "source": [
        "# Extract the positional encodings matrix as a NumPy array\n",
        "positional_encodings = pos_encoding.pe[:,:context_len, :d_model].numpy()"
      ]
    },
    {
      "cell_type": "code",
      "execution_count": null,
      "metadata": {
        "colab": {
          "base_uri": "https://localhost:8080/"
        },
        "id": "A9ifaPOl_v5q",
        "outputId": "a91d4585-5bbe-462d-b2d7-5e2bf00f5fad"
      },
      "outputs": [
        {
          "name": "stdout",
          "output_type": "stream",
          "text": [
            "(1, 100, 128)\n"
          ]
        }
      ],
      "source": [
        "print(positional_encodings.shape)"
      ]
    },
    {
      "cell_type": "code",
      "execution_count": null,
      "metadata": {
        "colab": {
          "base_uri": "https://localhost:8080/",
          "height": 564
        },
        "id": "L6YqVmMtd7IZ",
        "outputId": "06e8b7d1-4ca7-444d-cfd0-9edc8b47df24"
      },
      "outputs": [
        {
          "data": {
            "image/png": "[encoded data removed]",
            "text/plain": [
              "<Figure size 1400x600 with 2 Axes>"
            ]
          },
          "metadata": {},
          "output_type": "display_data"
        }
      ],
      "source": [
        "# Plot positional encoding matrix\n",
        "plt.figure(figsize = (14, 6))\n",
        "plt.imshow(positional_encodings.T, aspect = 'auto', cmap = 'gray', interpolation = 'nearest')\n",
        "plt.colorbar(label = 'Positional Encoding Value')\n",
        "plt.xlabel(f'Position (0 to {context_len - 1})')\n",
        "plt.ylabel(f'Encoding Dimension (0 to {d_model - 1})')\n",
        "plt.title(f'Positional Encoding of Numbers from 0 to {context_len - 1}')\n",
        "plt.xticks(np.arange(0, pos_encoding.num_range, step = 5))\n",
        "plt.yticks(np.arange(0, d_model, step = 10), labels = [f'Dim {i}' for i in range(0, d_model, 10)])\n",
        "plt.show()"
      ]
    },
    {
      "cell_type": "code",
      "execution_count": null,
      "metadata": {
        "id": "pjBsGm1FMQ_9"
      },
      "outputs": [],
      "source": [
        "# Create binary representations of 0–99 using d_model-bit width\n",
        "bit_length = d_model\n",
        "binary_representation = [np.binary_repr(i, width = bit_length) for i in range(context_len)]"
      ]
    },
    {
      "cell_type": "code",
      "execution_count": null,
      "metadata": {
        "id": "KgRCX2_m_v5r"
      },
      "outputs": [],
      "source": [
        "# Convert to 2D matrix then transpose\n",
        "binary_matrix = np.array([[int(bit) for bit in bin_str[::-1]] for bin_str in binary_representation])\n",
        "binary_matrix = binary_matrix.T"
      ]
    },
    {
      "cell_type": "code",
      "execution_count": null,
      "metadata": {
        "colab": {
          "base_uri": "https://localhost:8080/",
          "height": 564
        },
        "id": "rQujaD-1d7LZ",
        "outputId": "9cd74cdd-8368-4322-a750-f58cdc8c5f40"
      },
      "outputs": [
        {
          "data": {
            "image/png": "[encoded data removed]",
            "text/plain": [
              "<Figure size 1400x600 with 2 Axes>"
            ]
          },
          "metadata": {},
          "output_type": "display_data"
        }
      ],
      "source": [
        "# Plot binary encoding matrix\n",
        "plt.figure(figsize = (14, 6))\n",
        "plt.imshow(binary_matrix, aspect = 'auto', cmap = 'gray', interpolation = 'nearest')\n",
        "plt.colorbar(label = 'Bit Value')\n",
        "plt.xlabel('Number (0 to 99)')\n",
        "plt.ylabel('Bit Position (0 = Rightmost)')\n",
        "plt.title('Binary Representation of Numbers from 0 to 99')\n",
        "plt.xticks(np.arange(0, context_len, step = 5))\n",
        "plt.yticks(np.arange(0, bit_length, step = 10), labels = [f'Bit {i}' for i in range(0, bit_length, 10)])\n",
        "plt.show()"
      ]
    },
    {
      "cell_type": "markdown",
      "metadata": {
        "id": "j2_JwwXA_v5r"
      },
      "source": [
        "---\n",
        "### Single-Head Self-Attention"
      ]
    },
    {
      "cell_type": "markdown",
      "metadata": {
        "id": "UkGWA4b0hvyX"
      },
      "source": [
        "**Exercise 3 [2/2]**:\n",
        "1. Implement the class `Head`."
      ]
    },
    {
      "cell_type": "code",
      "execution_count": null,
      "metadata": {
        "id": "Z5AQvRSzajxe"
      },
      "outputs": [],
      "source": [
        "# Implements a single self-attention head with causal masking for autoregressive decoding\n",
        "class Head(nn.Module):\n",
        "\n",
        "    def __init__(self, d_model, d_k, d_v, context_len = 100):\n",
        "\n",
        "        super().__init__()\n",
        "        self.d_model = d_model\n",
        "        self.d_k = d_k\n",
        "        self.d_v = d_v\n",
        "        self.context_len = context_len\n",
        "\n",
        "        # Linear projections for query, key, and value\n",
        "        self.W_Q = nn.Linear(d_model, d_k)\n",
        "        self.W_K = nn.Linear(d_model, d_k)\n",
        "        self.W_V = nn.Linear(d_model, d_v)\n",
        "\n",
        "        # Register lower-triangular mask for causal attention\n",
        "        self.register_buffer(\"mask\", torch.tril(torch.ones(self.context_len, self.context_len)))\n",
        "\n",
        "    def forward(self, x):\n",
        "\n",
        "        # Project input into Q, K, V\n",
        "        Q = self.W_Q(x)\n",
        "        K = self.W_K(x)\n",
        "        V = self.W_V(x)\n",
        "\n",
        "        # Compute scaled dot-product attention scores\n",
        "        scores = Q @ K.transpose(-2, -1) / math.sqrt(self.d_k)\n",
        "\n",
        "        # Apply causal mask to prevent attending to future tokens\n",
        "        scores = scores.masked_fill(self.mask[:x.size(1), :x.size(1)] == 0, float('-inf'))\n",
        "\n",
        "        # Normalize scores to probabilities\n",
        "        weights = F.softmax(scores, dim = -1)\n",
        "\n",
        "        # Compute attention output as weighted sum of values\n",
        "        output = weights @ V\n",
        "\n",
        "        return output"
      ]
    },
    {
      "cell_type": "code",
      "execution_count": null,
      "metadata": {
        "id": "t5lrpwDL_v5y"
      },
      "outputs": [],
      "source": [
        "# Initialize single-head attention for testing\n",
        "num_heads = 8\n",
        "d_k = d_v = d_model // num_heads\n",
        "head = Head(d_model = d_model, d_k = d_k, d_v = d_v, context_len = context_len)"
      ]
    },
    {
      "cell_type": "code",
      "execution_count": null,
      "metadata": {
        "id": "RlVtbCaIM4XX"
      },
      "outputs": [],
      "source": [
        "# Generate random input\n",
        "x = torch.randn(batch_size, context_len, d_model)\n",
        "output = head(x)"
      ]
    },
    {
      "cell_type": "code",
      "execution_count": null,
      "metadata": {
        "colab": {
          "base_uri": "https://localhost:8080/"
        },
        "id": "Fd7JlkqHfasS",
        "outputId": "f5627eec-399c-4db4-9720-62cf16c4413a"
      },
      "outputs": [
        {
          "name": "stdout",
          "output_type": "stream",
          "text": [
            "Output shape: torch.Size([64, 100, 16])\n",
            "Output (first example, first few tokens): tensor([[ 4.9336e-01,  1.7095e-01,  1.7265e-02, -7.7426e-01, -3.8906e-02,\n",
            "         -4.8482e-01,  6.0729e-01,  5.6286e-01, -6.9106e-01, -2.8601e-01,\n",
            "          6.9051e-02, -1.0429e-01,  3.5803e-01, -4.0813e-03,  4.8076e-01,\n",
            "         -1.0538e-01],\n",
            "        [ 4.8214e-01,  1.4000e-01,  3.0911e-01, -3.8238e-01, -3.2625e-02,\n",
            "         -2.1414e-01, -1.4858e-02,  6.8674e-01, -6.7315e-01, -2.2306e-01,\n",
            "          1.9708e-01, -9.2337e-02,  3.5686e-04, -1.6016e-01,  6.4234e-01,\n",
            "         -1.7230e-01],\n",
            "        [ 5.4417e-01,  4.1940e-03, -4.9905e-02,  3.1391e-02,  3.5056e-01,\n",
            "         -5.6806e-01, -6.5135e-01,  1.7725e-01, -1.4457e-01, -4.0365e-01,\n",
            "          1.8969e-03,  1.0647e-01,  1.2192e-01,  8.7321e-02,  3.3980e-01,\n",
            "         -2.0373e-01],\n",
            "        [ 3.7729e-01,  3.6854e-01,  1.4001e-01,  3.8801e-01,  9.1492e-02,\n",
            "         -3.2939e-01, -6.3382e-01,  5.6626e-02, -2.6929e-01, -5.5201e-01,\n",
            "         -6.0587e-03,  1.0274e-01, -8.8432e-03, -1.6629e-02, -2.3651e-01,\n",
            "         -2.1997e-01],\n",
            "        [ 3.8316e-01,  2.9130e-01,  6.7305e-02,  2.0091e-01,  1.7754e-01,\n",
            "         -3.8793e-01, -5.4071e-01,  1.4866e-01, -1.8116e-01, -4.7690e-01,\n",
            "         -1.0718e-01,  8.1128e-02,  3.8245e-02, -9.5076e-02, -7.7336e-02,\n",
            "         -1.6865e-01]], grad_fn=<SliceBackward0>)\n"
          ]
        }
      ],
      "source": [
        "print(\"Output shape:\", output.shape)\n",
        "print(\"Output (first example, first few tokens):\", output[0, :5, :])"
      ]
    },
    {
      "cell_type": "markdown",
      "metadata": {
        "id": "Rb5Rd73z_v5y"
      },
      "source": [
        "---\n",
        "### Multi-Head Attention"
      ]
    },
    {
      "cell_type": "markdown",
      "metadata": {
        "id": "lY3Ndmc4i7Jx"
      },
      "source": [
        "**Exercise 4 [1/1]**:\n",
        "1. Implement the class `MultiHeadAttention`."
      ]
    },
    {
      "cell_type": "code",
      "execution_count": null,
      "metadata": {
        "id": "YzAzrF9DjF6F"
      },
      "outputs": [],
      "source": [
        "# Runs multiple parallel self-attention heads and merges their outputs with a final linear projection\n",
        "class MultiHeadAttention(nn.Module):\n",
        "\n",
        "    def __init__(self, d_model, num_heads = 8, context_len = 100):\n",
        "\n",
        "        super().__init__()\n",
        "        self.d_model = d_model\n",
        "        self.num_heads = num_heads\n",
        "        self.d_k = d_model // num_heads\n",
        "        self.d_v = d_model // num_heads\n",
        "\n",
        "        # Create list of attention heads\n",
        "        self.heads = nn.ModuleList([\n",
        "            Head(d_model, self.d_k, self.d_v, context_len)\n",
        "            for _ in range(num_heads)])\n",
        "\n",
        "        # Final linear projection to merge head outputs\n",
        "        self.linear = nn.Linear(d_model, d_model)\n",
        "\n",
        "    def forward(self, x):\n",
        "\n",
        "        # Run each head independently\n",
        "        head_outputs = [head(x) for head in self.heads]\n",
        "\n",
        "        # Concatenate outputs from all heads\n",
        "        concat = torch.cat(head_outputs, dim = -1)\n",
        "\n",
        "        # Project concatenated output back to d_model dimensions\n",
        "        output = self.linear(concat)\n",
        "\n",
        "        return output"
      ]
    },
    {
      "cell_type": "code",
      "execution_count": null,
      "metadata": {
        "id": "mlgHo4bX_v5y"
      },
      "outputs": [],
      "source": [
        "# Test multi-head attention module\n",
        "multi_head_attn = MultiHeadAttention(d_model = d_model, num_heads = num_heads, context_len = context_len)\n",
        "output = multi_head_attn(src_embedded)"
      ]
    },
    {
      "cell_type": "code",
      "execution_count": null,
      "metadata": {
        "colab": {
          "base_uri": "https://localhost:8080/"
        },
        "id": "3VHZ-NQlixkm",
        "outputId": "7fb5a5e0-dd4f-495c-c367-2a04d2800a82"
      },
      "outputs": [
        {
          "name": "stdout",
          "output_type": "stream",
          "text": [
            "Output shape: torch.Size([64, 100, 128])\n",
            "Output (first example, first few tokens): tensor([[-0.3100, -0.3387,  0.9924, -0.4870, -0.1335,  0.0823, -0.5538, -0.5616,\n",
            "         -0.2711,  0.0374],\n",
            "        [-0.3985,  0.1608,  0.8176, -0.2885,  0.0691,  0.1938, -0.0152, -0.4530,\n",
            "         -0.4788, -0.2139],\n",
            "        [-0.2790,  0.0730,  0.6717, -0.3254,  0.0424,  0.1304,  0.0049, -0.4234,\n",
            "         -0.3732, -0.3528],\n",
            "        [-0.0513,  0.2098,  0.5669, -0.2886,  0.0251,  0.1200,  0.0313, -0.4937,\n",
            "         -0.1469, -0.1448],\n",
            "        [-0.0994,  0.0344,  0.4475, -0.2797, -0.0219,  0.1375,  0.0736, -0.4585,\n",
            "         -0.1503, -0.1643]], grad_fn=<SliceBackward0>)\n"
          ]
        }
      ],
      "source": [
        "print(\"Output shape:\", output.shape)\n",
        "print(\"Output (first example, first few tokens):\", output[0, :5, :10])"
      ]
    },
    {
      "cell_type": "markdown",
      "metadata": {
        "id": "pJhRfaS1_v5y"
      },
      "source": [
        "---\n",
        "### Feed-Forward Network"
      ]
    },
    {
      "cell_type": "markdown",
      "metadata": {
        "id": "XNCmxV2YW1Iv"
      },
      "source": [
        "**Exercise 5 [1/1]**:\n",
        "1. Implement the class `FFN`."
      ]
    },
    {
      "cell_type": "code",
      "execution_count": null,
      "metadata": {
        "id": "f2tgQutpkEhJ"
      },
      "outputs": [],
      "source": [
        "# Applies a two-layer feed-forward network with GELU activation to each token independently\n",
        "class FeedForward(nn.Module):\n",
        "\n",
        "    def __init__(self, d_model, d_ff = 256):\n",
        "\n",
        "        super().__init__()\n",
        "        self.d_model = d_model\n",
        "        self.d_ff = d_ff\n",
        "\n",
        "        # FFN: Linear → GELU → Linear\n",
        "        self.ffn = nn.Sequential(\n",
        "            nn.Linear(d_model, d_ff),\n",
        "            nn.GELU(),\n",
        "            nn.Linear(d_ff, d_model))\n",
        "\n",
        "    def forward(self, x):\n",
        "        return self.ffn(x)"
      ]
    },
    {
      "cell_type": "code",
      "execution_count": null,
      "metadata": {
        "id": "YeNEQVo__v5y"
      },
      "outputs": [],
      "source": [
        "# Instantiate and test FFN\n",
        "d_ff = 256\n",
        "ffn = FeedForward(d_model=d_model, d_ff=d_ff)\n",
        "output = ffn(output)"
      ]
    },
    {
      "cell_type": "code",
      "execution_count": null,
      "metadata": {
        "colab": {
          "base_uri": "https://localhost:8080/"
        },
        "id": "_YOUkPTZjgcs",
        "outputId": "1e9cb028-e45b-4c2d-c3cd-7097b3fb8101"
      },
      "outputs": [
        {
          "name": "stdout",
          "output_type": "stream",
          "text": [
            "Output shape: torch.Size([64, 100, 128])\n",
            "Output (first example, first few tokens): tensor([[-0.0934,  0.0546, -0.0246, -0.1522,  0.0157, -0.0143,  0.1076, -0.0467,\n",
            "         -0.1532,  0.0252],\n",
            "        [-0.1186,  0.0077,  0.0571, -0.1448,  0.0379,  0.0155,  0.0637, -0.0079,\n",
            "         -0.1181,  0.1155],\n",
            "        [-0.1041, -0.0165,  0.0741, -0.1209,  0.0409, -0.0036,  0.0510, -0.0084,\n",
            "         -0.1149,  0.0950],\n",
            "        [-0.0830, -0.0218,  0.0462, -0.1355,  0.0484,  0.0019,  0.0649, -0.0414,\n",
            "         -0.1187,  0.0885],\n",
            "        [-0.0631, -0.0010,  0.0434, -0.1288,  0.0122,  0.0115,  0.0472, -0.0511,\n",
            "         -0.1114,  0.0868]], grad_fn=<SliceBackward0>)\n"
          ]
        }
      ],
      "source": [
        "print(\"Output shape:\", output.shape)\n",
        "print(\"Output (first example, first few tokens):\", output[0, :5, :10])"
      ]
    },
    {
      "cell_type": "markdown",
      "metadata": {
        "id": "eKMURpH1_v5y"
      },
      "source": [
        "---\n",
        "### Transformer Decoder Layer"
      ]
    },
    {
      "cell_type": "markdown",
      "metadata": {
        "id": "Jpp0xCd0XzCS"
      },
      "source": [
        "**Exercise 6  [1/1]**:\n",
        "1. Implement the `TransformerDecoderLayer` class."
      ]
    },
    {
      "cell_type": "code",
      "execution_count": null,
      "metadata": {
        "id": "QVmgfKNOlY57"
      },
      "outputs": [],
      "source": [
        "# A single Transformer decoder layer with pre-layer normalization, self-attention, and feed-forward network\n",
        "class TransformerDecoderLayer(nn.Module):\n",
        "\n",
        "    def __init__(self, d_model, num_heads = 8, d_ff = 2048, context_len = 100):\n",
        "\n",
        "        super().__init__()\n",
        "        self.d_model = d_model\n",
        "        self.num_heads = num_heads\n",
        "        self.d_ff = d_ff\n",
        "        self.context_len = context_len\n",
        "\n",
        "        # LayerNorms before attention and FFN\n",
        "        self.norm1 = nn.LayerNorm(d_model)\n",
        "        self.norm2 = nn.LayerNorm(d_model)\n",
        "\n",
        "        # Attention and Feed-Forward submodules\n",
        "        self.attn = MultiHeadAttention(d_model, num_heads, context_len)\n",
        "        self.ffn = FeedForward(d_model, d_ff)\n",
        "\n",
        "    def forward(self, x):\n",
        "\n",
        "        # Residual connection + attention\n",
        "        x = x + self.attn(self.norm1(x))\n",
        "\n",
        "        # Residual connection + FFN\n",
        "        x = x + self.ffn(self.norm2(x))\n",
        "\n",
        "        return x"
      ]
    },
    {
      "cell_type": "code",
      "execution_count": null,
      "metadata": {
        "id": "ptOFmIUi_v5y"
      },
      "outputs": [],
      "source": [
        "# Instantiate and test single decoder layer\n",
        "transformer_decoder_layer = TransformerDecoderLayer(d_model = d_model, num_heads = num_heads, d_ff = d_ff, context_len = context_len)\n",
        "output = transformer_decoder_layer(src_embedded)"
      ]
    },
    {
      "cell_type": "code",
      "execution_count": null,
      "metadata": {
        "colab": {
          "base_uri": "https://localhost:8080/"
        },
        "id": "aEm9b7eCj2wY",
        "outputId": "f69873a6-3701-4cf8-b54e-acdcc448ac65"
      },
      "outputs": [
        {
          "name": "stdout",
          "output_type": "stream",
          "text": [
            "Output shape: torch.Size([64, 100, 128])\n",
            "Output (first example, first few tokens): tensor([[ 1.2914,  1.6921, -1.1181, -0.4426,  0.5439,  0.9333,  0.2763,  1.3038,\n",
            "          0.2183,  0.5726],\n",
            "        [ 1.1355,  0.7464,  0.4572,  1.2833,  2.8967,  1.9012,  1.6676,  0.3240,\n",
            "         -0.2773,  1.0735],\n",
            "        [-0.9900,  1.0145,  0.9630, -1.7443,  1.0828,  0.6171, -0.5437,  0.6859,\n",
            "          2.2500,  1.1754],\n",
            "        [ 0.1390, -1.2646,  1.3125, -2.2214, -1.6773, -0.8631,  0.8351, -0.2646,\n",
            "          3.0608, -1.8451],\n",
            "        [-0.9347, -0.6392, -0.1912,  0.1251,  0.3856,  2.1120, -0.6278, -0.6080,\n",
            "         -0.1349,  0.0680]], grad_fn=<SliceBackward0>)\n"
          ]
        }
      ],
      "source": [
        "print(\"Output shape:\", output.shape)\n",
        "print(\"Output (first example, first few tokens):\", output[0, :5, :10])"
      ]
    },
    {
      "cell_type": "markdown",
      "metadata": {
        "id": "yaTW1_J4_v5z"
      },
      "source": [
        "### Stack Decoder Layers"
      ]
    },
    {
      "cell_type": "markdown",
      "metadata": {
        "id": "RdZ02gZ5Y8x9"
      },
      "source": [
        "**Exercise 7 [1/1]**:\n",
        "1. Implement the class `TransformerDecoder`."
      ]
    },
    {
      "cell_type": "code",
      "execution_count": null,
      "metadata": {
        "id": "sBNo27S6mWsZ"
      },
      "outputs": [],
      "source": [
        "# Stacks multiple Transformer decoder layers to progressively refine token representations\n",
        "class TransformerDecoder(nn.Module):\n",
        "\n",
        "    def __init__(self, d_model, num_heads = 8, d_ff = 2048, context_len = 100, num_layers = 6):\n",
        "\n",
        "        super().__init__()\n",
        "        self.d_model = d_model\n",
        "        self.num_heads = num_heads\n",
        "        self.d_ff = d_ff\n",
        "        self.context_len = context_len\n",
        "        self.num_layers = num_layers\n",
        "\n",
        "        # Stack of decoder layers\n",
        "        self.layers = nn.ModuleList([\n",
        "            TransformerDecoderLayer(d_model, num_heads, d_ff, context_len)\n",
        "            for _ in range(num_layers)])\n",
        "\n",
        "    def forward(self, x):\n",
        "\n",
        "        # Pass input sequentially through each layer\n",
        "        for layer in self.layers:\n",
        "            x = layer(x)\n",
        "\n",
        "        return x"
      ]
    },
    {
      "cell_type": "code",
      "execution_count": null,
      "metadata": {
        "id": "r2IY18su_v5z"
      },
      "outputs": [],
      "source": [
        "# Instantiate and test multi-layer decoder\n",
        "num_layers = 2\n",
        "transformer_decoder = TransformerDecoder(d_model = d_model, num_heads = num_heads, d_ff = d_ff, context_len = context_len, num_layers = num_layers)\n",
        "output = transformer_decoder(src_embedded)"
      ]
    },
    {
      "cell_type": "code",
      "execution_count": null,
      "metadata": {
        "colab": {
          "base_uri": "https://localhost:8080/"
        },
        "id": "JxSqfVtKkLvq",
        "outputId": "76b134e8-1f6b-475c-ad62-cbaa4fc61e71"
      },
      "outputs": [
        {
          "name": "stdout",
          "output_type": "stream",
          "text": [
            "Output shape: torch.Size([64, 100, 128])\n",
            "Output (first example, first few tokens): tensor([[ 2.7889e+00,  1.5901e+00, -5.5144e-01,  1.1716e+00,  1.4326e+00,\n",
            "          3.8699e-01,  6.0057e-01,  1.5266e+00,  1.0277e+00, -5.7052e-02],\n",
            "        [ 1.2868e+00,  1.0874e+00,  7.2921e-01,  2.1291e+00,  3.6082e+00,\n",
            "          2.0119e+00,  1.7749e+00, -6.6499e-02,  7.9033e-01,  8.7253e-01],\n",
            "        [-8.1686e-01,  3.6888e-01,  1.4970e+00, -1.0845e+00,  2.6533e+00,\n",
            "          7.1010e-01,  5.4240e-02,  1.0012e+00,  3.3065e+00,  1.3646e+00],\n",
            "        [-4.7732e-01, -1.6316e+00,  1.4101e+00, -1.2004e+00, -1.0697e+00,\n",
            "         -7.0572e-01,  1.3888e+00, -3.6770e-01,  3.6499e+00, -1.8635e+00],\n",
            "        [-9.9707e-01, -9.8286e-01, -9.8927e-04,  1.0128e+00,  1.1456e+00,\n",
            "          1.9476e+00, -5.8851e-01, -6.1820e-01,  1.5755e-01,  9.9907e-02]],\n",
            "       grad_fn=<SliceBackward0>)\n"
          ]
        }
      ],
      "source": [
        "print(\"Output shape:\", output.shape)\n",
        "print(\"Output (first example, first few tokens):\", output[0, :5, :10])"
      ]
    },
    {
      "cell_type": "markdown",
      "metadata": {
        "id": "KLEhFBf__v5z"
      },
      "source": [
        "---\n",
        "### Complete GPT Model"
      ]
    },
    {
      "cell_type": "markdown",
      "metadata": {
        "id": "KTFuFaZJZeBL"
      },
      "source": [
        "**Exercise 8 [2/2]**:\n",
        "1. Implement `GPTModel`"
      ]
    },
    {
      "cell_type": "code",
      "execution_count": null,
      "metadata": {
        "id": "277qlm1NmQRD"
      },
      "outputs": [],
      "source": [
        "# A complete decoder-only GPT model with token/position embeddings, stacked transformer blocks, and text generation\n",
        "class GPTModel(nn.Module):\n",
        "\n",
        "    def __init__(self, vocab_size, d_model, num_heads = 8, d_ff = 2048, context_len = 100, num_layers = 6):\n",
        "\n",
        "        super().__init__()\n",
        "        self.vocab_size = vocab_size\n",
        "        self.d_model = d_model\n",
        "        self.num_heads = num_heads\n",
        "        self.d_ff = d_ff\n",
        "        self.context_len = context_len\n",
        "        self.num_layers = num_layers\n",
        "\n",
        "        # Embedding layers for tokens and positions\n",
        "        self.word_embedding = nn.Embedding(vocab_size, d_model)\n",
        "        self.pos_encoding = PositionalEncoding(d_model, num_range = context_len)\n",
        "\n",
        "        # Stacked Transformer decoder layers\n",
        "        self.decoder = TransformerDecoder(d_model, num_heads, d_ff, context_len, num_layers)\n",
        "\n",
        "        # Final projection to vocabulary size\n",
        "        self.fc_out = nn.Linear(d_model, vocab_size)\n",
        "\n",
        "    def forward(self, x):\n",
        "\n",
        "        # Embed input tokens and add positional encoding\n",
        "        x = self.word_embedding(x)\n",
        "        x = self.pos_encoding(x)\n",
        "\n",
        "        # Pass through stacked decoder layers\n",
        "        x = self.decoder(x)\n",
        "\n",
        "        # Project to vocabulary logits\n",
        "        logits = self.fc_out(x)\n",
        "\n",
        "        return logits\n",
        "\n",
        "    @torch.no_grad()\n",
        "\n",
        "    def generate(self, start_tokens, max_new_tokens = 50, temperature = 1.0):\n",
        "\n",
        "        # Set model to eval mode\n",
        "        self.eval()\n",
        "\n",
        "        # Initial prompt\n",
        "        generated = start_tokens\n",
        "\n",
        "        for _ in range(max_new_tokens):\n",
        "\n",
        "            # Use last context_len tokens as input\n",
        "            input_seq = generated[:, -self.context_len:]\n",
        "\n",
        "            # Get logits from model and scale by temperature\n",
        "            logits = self.forward(input_seq)\n",
        "            logits = logits[:, -1, :] / temperature\n",
        "\n",
        "            # Convert to probabilities\n",
        "            probs = F.softmax(logits, dim = -1)\n",
        "\n",
        "            # Sample next token\n",
        "            next_token = torch.multinomial(probs, num_samples = 1)\n",
        "\n",
        "            # Append token to sequence\n",
        "            generated = torch.cat((generated, next_token), dim = 1)\n",
        "\n",
        "        return generated"
      ]
    },
    {
      "cell_type": "code",
      "execution_count": null,
      "metadata": {
        "id": "J_Pzal0zOcVA"
      },
      "outputs": [],
      "source": [
        "# Instantiate and test GPT model\n",
        "gpt = GPTModel(vocab_size, d_model = d_model, num_heads = num_heads, d_ff = d_ff, context_len = context_len, num_layers = num_layers)\n",
        "output = gpt(src)"
      ]
    },
    {
      "cell_type": "code",
      "execution_count": null,
      "metadata": {
        "colab": {
          "base_uri": "https://localhost:8080/"
        },
        "id": "f-wVNmR2kmlw",
        "outputId": "9b21048b-814b-4b03-aebb-c182d22c8425"
      },
      "outputs": [
        {
          "name": "stdout",
          "output_type": "stream",
          "text": [
            "Output shape: torch.Size([64, 100, 65])\n",
            "Output (first example, first few tokens): tensor([[ 0.0096, -0.8940,  1.3199,  1.2045,  0.6285,  0.6677, -0.0681,  1.3730,\n",
            "          0.0567, -1.1061],\n",
            "        [-0.3075, -0.1721, -0.1093,  0.1976,  0.3522,  1.2663,  0.5894,  0.6183,\n",
            "          1.2366, -1.4624],\n",
            "        [ 0.5688,  0.3384,  0.5509,  0.8342,  1.1753, -0.3357, -0.0758,  0.1398,\n",
            "          0.4317,  0.4918],\n",
            "        [ 0.5464, -0.8471,  0.1925,  1.5310,  1.4570,  0.1757, -0.4921,  0.3526,\n",
            "         -0.3124, -0.4544],\n",
            "        [ 0.5695, -0.0612,  0.5205,  0.7590,  0.6435,  0.7797,  0.8548,  0.2727,\n",
            "          0.2954, -0.3125]], grad_fn=<SliceBackward0>)\n"
          ]
        }
      ],
      "source": [
        "print(\"Output shape:\", output.shape)\n",
        "print(\"Output (first example, first few tokens):\", output[0, :5, :10])"
      ]
    },
    {
      "cell_type": "markdown",
      "metadata": {
        "id": "bOLGGaalcymo"
      },
      "source": [
        "---\n",
        "## Training"
      ]
    },
    {
      "cell_type": "code",
      "execution_count": null,
      "metadata": {
        "id": "HNCQNvvi_v5z"
      },
      "outputs": [],
      "source": [
        "def train(model, dataloader, criterion, optimizer, device):\n",
        "\n",
        "    # Set model to training mode\n",
        "    model.train()\n",
        "\n",
        "    total_loss = 0\n",
        "\n",
        "    for src, tgt in dataloader:\n",
        "\n",
        "        # Move data to target device\n",
        "        src, tgt = src.to(device), tgt.to(device)\n",
        "\n",
        "        # Forward and backward pass\n",
        "        optimizer.zero_grad()\n",
        "        output = model(src)\n",
        "        loss = criterion(output.view(-1, output.size(-1)), tgt.view(-1))\n",
        "        loss.backward()\n",
        "        optimizer.step()\n",
        "\n",
        "        total_loss += loss.item()\n",
        "\n",
        "    return total_loss / len(dataloader)"
      ]
    },
    {
      "cell_type": "code",
      "execution_count": null,
      "metadata": {
        "id": "WB_-8UZjnYSk"
      },
      "outputs": [],
      "source": [
        "def evaluate(model, dataloader, criterion, device):\n",
        "\n",
        "    # Set model to evaluation mode\n",
        "    model.eval()\n",
        "\n",
        "    total_loss = 0\n",
        "\n",
        "    # Disable gradient calculation\n",
        "    with torch.no_grad():\n",
        "        for src, tgt in dataloader:\n",
        "            src, tgt = src.to(device), tgt.to(device)\n",
        "            output = model(src)\n",
        "            loss = criterion(output.view(-1, output.size(-1)), tgt.view(-1))\n",
        "            total_loss += loss.item()\n",
        "\n",
        "    return total_loss / len(dataloader)"
      ]
    },
    {
      "cell_type": "code",
      "execution_count": null,
      "metadata": {
        "id": "_QwBdqNsPAKT"
      },
      "outputs": [],
      "source": [
        "# Set random seed for reproducibility\n",
        "torch.manual_seed(1)"
      ]
    },
    {
      "cell_type": "code",
      "execution_count": null,
      "metadata": {
        "colab": {
          "base_uri": "https://localhost:8080/"
        },
        "id": "iPxM-fvEnnqq",
        "outputId": "1db88d9e-0efb-417d-fc15-92abc54ee058"
      },
      "outputs": [
        {
          "name": "stdout",
          "output_type": "stream",
          "text": [
            "Using device cuda\n"
          ]
        }
      ],
      "source": [
        "# Use GPU if available, otherwise fallback to CPU\n",
        "device = torch.device(\"cuda\" if torch.cuda.is_available() else \"cpu\")\n",
        "print(\"Using device\", device)"
      ]
    },
    {
      "cell_type": "code",
      "execution_count": null,
      "metadata": {
        "id": "oU_ie_ZI_v5z"
      },
      "outputs": [],
      "source": [
        "# Define model architecture hyperparameters\n",
        "d_model = 128\n",
        "num_heads = 8\n",
        "d_ff = 256\n",
        "num_layers = 2"
      ]
    },
    {
      "cell_type": "code",
      "execution_count": null,
      "metadata": {
        "colab": {
          "base_uri": "https://localhost:8080/"
        },
        "id": "G4l2Yf6f_v5z",
        "outputId": "2f6d447a-aaf4-4096-ffaf-094c78925753"
      },
      "outputs": [
        {
          "name": "stdout",
          "output_type": "stream",
          "text": [
            "data hyper-paras: vocab_size: 65, context_len: 100, batch_size: 64\n",
            "model hyper-paras: d_model: 128, num_heads: 8, d_ff: 256, num_layers: 2\n"
          ]
        }
      ],
      "source": [
        "print(f\"data hyper-paras: vocab_size: {vocab_size}, context_len: {context_len}, batch_size: {batch_size}\")\n",
        "print(f\"model hyper-paras: d_model: {d_model}, num_heads: {num_heads}, d_ff: {d_ff}, num_layers: {num_layers}\")"
      ]
    },
    {
      "cell_type": "code",
      "execution_count": null,
      "metadata": {
        "id": "EAoYePEt_v5z"
      },
      "outputs": [],
      "source": [
        "# Initialize GPT model, loss function, and optimizer\n",
        "gpt = GPTModel(vocab_size, d_model = d_model, num_heads = num_heads, d_ff = d_ff, context_len = context_len, num_layers = num_layers).to(device)\n",
        "criterion = nn.CrossEntropyLoss()\n",
        "optimizer = torch.optim.Adam(gpt.parameters(), lr = 0.01)"
      ]
    },
    {
      "cell_type": "code",
      "execution_count": null,
      "metadata": {
        "colab": {
          "base_uri": "https://localhost:8080/"
        },
        "id": "4VJLxJ4boAKu",
        "outputId": "13b602d6-60e3-4bcf-c0fa-82a61bac4a91"
      },
      "outputs": [
        {
          "name": "stdout",
          "output_type": "stream",
          "text": [
            "Epoch 1/10, Train Loss: 1.3860, Val Loss: 1.3115\n",
            "Epoch 2/10, Train Loss: 1.2893, Val Loss: 1.2795\n",
            "Epoch 3/10, Train Loss: 1.2694, Val Loss: 1.2649\n",
            "Epoch 4/10, Train Loss: 1.2584, Val Loss: 1.2565\n",
            "Epoch 5/10, Train Loss: 1.2513, Val Loss: 1.2459\n",
            "Epoch 6/10, Train Loss: 1.2461, Val Loss: 1.2452\n",
            "Epoch 7/10, Train Loss: 1.2419, Val Loss: 1.2367\n",
            "Epoch 8/10, Train Loss: 1.2386, Val Loss: 1.2385\n",
            "Epoch 9/10, Train Loss: 1.2357, Val Loss: 1.2404\n",
            "Epoch 10/10, Train Loss: 1.2334, Val Loss: 1.2257\n"
          ]
        }
      ],
      "source": [
        "train_losses = []\n",
        "val_losses = []\n",
        "max_iter = 10\n",
        "\n",
        "# Train the model for a fixed number of epochs\n",
        "for epoch in range(max_iter):\n",
        "\n",
        "    train_loss = train(gpt, train_dataloader, criterion, optimizer, device)\n",
        "    val_loss = evaluate(gpt, val_dataloader, criterion, device)\n",
        "\n",
        "    train_losses.append(train_loss)\n",
        "    val_losses.append(val_loss)\n",
        "\n",
        "    print(f\"Epoch {epoch + 1}/{max_iter}, Train Loss: {train_loss:.4f}, Val Loss: {val_loss:.4f}\")"
      ]
    },
    {
      "cell_type": "markdown",
      "metadata": {
        "id": "S8a7i5e4c5PN"
      },
      "source": [
        "## Generation"
      ]
    },
    {
      "cell_type": "code",
      "execution_count": null,
      "metadata": {
        "id": "9u7n3tlc_v50"
      },
      "outputs": [],
      "source": [
        "# Generate new text and decode it to string\n",
        "context = torch.zeros((1, 1), dtype = torch.long, device = device)"
      ]
    },
    {
      "cell_type": "code",
      "execution_count": null,
      "metadata": {
        "colab": {
          "base_uri": "https://localhost:8080/"
        },
        "id": "6dUzoLpW4OVA",
        "outputId": "c1c7bb9d-498f-4d27-d89c-72e8d5708379"
      },
      "outputs": [
        {
          "name": "stdout",
          "output_type": "stream",
          "text": [
            "\n",
            "And meacoch Talicise a king; why, there is King Northumberland,\n",
            "She more take of Lord Hastings and fined by oath,\n",
            "To this, youth much have tuned jest,\n",
            "And seek times house it storess,\n",
            "The pleasant her navy justican.\n",
            "\n",
            "DUKE VINCENTIO:\n",
            "I am stuff'd it: stand, gentle loves for breathes;\n",
            "Or if dotted near that to our quarrel,\n",
            "But not to make the woman's tire at mind\n",
            "Without my grieving in the sweeting, shall be Edward\n",
            "Good Captain.--Nurbeous,--\n",
            "\n",
            "Roman:\n",
            "It were proud hearts! Did I not hear me,\n",
            "That the Thursday, bitterly good\n",
            "Tickly queen as in the stones of them and heirs,\n",
            "Amain's instrument, such a man of treason;\n",
            "And take beguiles to be groweved i' the day?\n",
            "O Cenelt, Warwick! make each fair slave, beseech you\n",
            "Have betain me from the man's brains\n",
            "Of ords, bake my flesh and caldens themselves? whither?\n",
            "Here in false and lunatice moest windix,\n",
            "Carristerns to codit when he said to forget\n",
            "At English frown of Edward's man;\n",
            "This precise her love the wont with him.\n",
            "What is your came to accident him that may\n",
            "At his demiss' causes! his name King Regar:\n",
            "Shortens, brings nothing Barnardine\n",
            "Look I nurse people farewell: so he would not slew\n",
            "As intent as old close we must hearwound my soul\n",
            "Verous match: say be bring in his father;\n",
            "Not seek a friend Duke of Norfolk,\n",
            "And not Warwick, wherefore? have you'ld come?\n",
            "Sood and by no man made open theef?\n",
            "What fraywth together: these beloved forties.\n",
            "Yet ten the sea told us! Welcome to the\n",
            "uggart she absent and Edward's blaster; Warwick!\n",
            "Thus in peace comes for the law;\n",
            "And thou hadst make Price God, I am goe forth,\n",
            "While it proison's face.\n",
            "\n",
            "CLIFFORD:\n",
            "Stainnet.\n",
            "\n",
            "Second Cussiatice,\n",
            "To be kinsmen best adot semblet. For this fair,\n",
            "Will you dares in sost throuffiy the boy,\n",
            "Because honours after to bear him, and thus,\n",
            "I am beoin of this deed, in mine owns!\n",
            "Lives in my above begun. Ip thy Henry she that off this: spidence\n",
            "CHARSSET: brood, whom despair to\n",
            "Aprison to have made this visage and from to enve:\n",
            "Then, say holy say's found? shall you that c\n"
          ]
        }
      ],
      "source": [
        "print(decode(gpt.generate(context, max_new_tokens = 2000)[0].tolist()))"
      ]
    },
    {
      "cell_type": "code",
      "execution_count": null,
      "metadata": {
        "id": "KrvVFPf14g4i"
      },
      "outputs": [],
      "source": []
    }
  ],
  "metadata": {
    "accelerator": "GPU",
    "colab": {
      "gpuType": "T4",
      "provenance": []
    },
    "kernelspec": {
      "display_name": "Python 3",
      "name": "python3"
    },
    "language_info": {
      "name": "python"
    }
  },
  "nbformat": 4,
  "nbformat_minor": 0
}
